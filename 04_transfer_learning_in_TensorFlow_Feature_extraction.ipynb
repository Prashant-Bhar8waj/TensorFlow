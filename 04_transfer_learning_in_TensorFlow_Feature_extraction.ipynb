{
 "cells": [
  {
   "cell_type": "markdown",
   "id": "709d3c0a",
   "metadata": {},
   "source": [
    "# Transfer learning with TensorFlow Part 1: Feature Extraction\n",
    "\n",
    "Transfer Learning is leveraging a working model's existing architecture and learned patterns of our problem.\n",
    "\n",
    "There are two main benifits:\n",
    "1. Can leverage an existing neural network architecture proven to work on problems similar to our own.\n",
    "2. Can leverage a working neural network acrhitecture which has already learned patterns on similar data to our own, then we can adapt those patters to our data."
   ]
  },
  {
   "cell_type": "code",
   "execution_count": 79,
   "id": "4790172a",
   "metadata": {},
   "outputs": [
    {
     "name": "stdout",
     "output_type": "stream",
     "text": [
      "Wed Oct 20 18:58:16 2021       \n",
      "+-----------------------------------------------------------------------------+\n",
      "| NVIDIA-SMI 472.12       Driver Version: 472.12       CUDA Version: 11.4     |\n",
      "|-------------------------------+----------------------+----------------------+\n",
      "| GPU  Name            TCC/WDDM | Bus-Id        Disp.A | Volatile Uncorr. ECC |\n",
      "| Fan  Temp  Perf  Pwr:Usage/Cap|         Memory-Usage | GPU-Util  Compute M. |\n",
      "|                               |                      |               MIG M. |\n",
      "|===============================+======================+======================|\n",
      "|   0  NVIDIA GeForce ... WDDM  | 00000000:01:00.0 Off |                  N/A |\n",
      "| N/A   45C    P8     3W /  N/A |    134MiB /  4096MiB |      0%      Default |\n",
      "|                               |                      |                  N/A |\n",
      "+-------------------------------+----------------------+----------------------+\n",
      "                                                                               \n",
      "+-----------------------------------------------------------------------------+\n",
      "| Processes:                                                                  |\n",
      "|  GPU   GI   CI        PID   Type   Process name                  GPU Memory |\n",
      "|        ID   ID                                                   Usage      |\n",
      "|=============================================================================|\n",
      "|    0   N/A  N/A     13792      C   ...da3\\envs\\CudaT\\python.exe    N/A      |\n",
      "+-----------------------------------------------------------------------------+\n"
     ]
    }
   ],
   "source": [
    "# Are we using a GPU?\n",
    "!nvidia-smi"
   ]
  },
  {
   "cell_type": "markdown",
   "id": "4475f673",
   "metadata": {},
   "source": [
    "## Downloading and becoming one with the data"
   ]
  },
  {
   "cell_type": "code",
   "execution_count": 80,
   "id": "02b73dac",
   "metadata": {},
   "outputs": [
    {
     "name": "stdout",
     "output_type": "stream",
     "text": [
      "There are 2 directories and 0 images in '10_food_classes_10_percent'.\n",
      "There are 10 directories and 0 images in '10_food_classes_10_percent\\test'.\n",
      "There are 0 directories and 250 images in '10_food_classes_10_percent\\test\\chicken_curry'.\n",
      "There are 0 directories and 250 images in '10_food_classes_10_percent\\test\\chicken_wings'.\n",
      "There are 0 directories and 250 images in '10_food_classes_10_percent\\test\\fried_rice'.\n",
      "There are 0 directories and 250 images in '10_food_classes_10_percent\\test\\grilled_salmon'.\n",
      "There are 0 directories and 250 images in '10_food_classes_10_percent\\test\\hamburger'.\n",
      "There are 0 directories and 250 images in '10_food_classes_10_percent\\test\\ice_cream'.\n",
      "There are 0 directories and 250 images in '10_food_classes_10_percent\\test\\pizza'.\n",
      "There are 0 directories and 250 images in '10_food_classes_10_percent\\test\\ramen'.\n",
      "There are 0 directories and 250 images in '10_food_classes_10_percent\\test\\steak'.\n",
      "There are 0 directories and 250 images in '10_food_classes_10_percent\\test\\sushi'.\n",
      "There are 10 directories and 0 images in '10_food_classes_10_percent\\train'.\n",
      "There are 0 directories and 75 images in '10_food_classes_10_percent\\train\\chicken_curry'.\n",
      "There are 0 directories and 75 images in '10_food_classes_10_percent\\train\\chicken_wings'.\n",
      "There are 0 directories and 75 images in '10_food_classes_10_percent\\train\\fried_rice'.\n",
      "There are 0 directories and 75 images in '10_food_classes_10_percent\\train\\grilled_salmon'.\n",
      "There are 0 directories and 75 images in '10_food_classes_10_percent\\train\\hamburger'.\n",
      "There are 0 directories and 75 images in '10_food_classes_10_percent\\train\\ice_cream'.\n",
      "There are 0 directories and 75 images in '10_food_classes_10_percent\\train\\pizza'.\n",
      "There are 0 directories and 75 images in '10_food_classes_10_percent\\train\\ramen'.\n",
      "There are 0 directories and 75 images in '10_food_classes_10_percent\\train\\steak'.\n",
      "There are 0 directories and 75 images in '10_food_classes_10_percent\\train\\sushi'.\n"
     ]
    }
   ],
   "source": [
    "# How many images are there in the folder?\n",
    "import os\n",
    "\n",
    "# walk through 10 percent data directory and list number of files\n",
    "for dirpath, dirnames, filenames in os.walk(\"10_food_classes_10_percent\"):\n",
    "    print(f\"There are {len(dirnames)} directories and {len(filenames)} images in '{dirpath}'.\")\n"
   ]
  },
  {
   "cell_type": "markdown",
   "id": "e6035437",
   "metadata": {},
   "source": [
    "## Creating data loaders (preparing the data)\n",
    "\n",
    "we'll use the `ImageDataGenerator` class to load in our images in batches."
   ]
  },
  {
   "cell_type": "code",
   "execution_count": 81,
   "id": "c16d6bd2",
   "metadata": {},
   "outputs": [
    {
     "name": "stdout",
     "output_type": "stream",
     "text": [
      "Training Images\n",
      "Found 750 images belonging to 10 classes.\n",
      "Testing Image\n",
      "Found 2500 images belonging to 10 classes.\n"
     ]
    }
   ],
   "source": [
    "# Setup data imputs \n",
    "from tensorflow.keras.preprocessing.image import ImageDataGenerator\n",
    "\n",
    "IMAGE_SHAPE = (224, 224)\n",
    "BATCH_SIZE  = 32\n",
    "\n",
    "train_dir = \"10_food_classes_10_percent/train/\"\n",
    "test_dir = \"10_food_classes_10_percent/test/\"\n",
    "\n",
    "\n",
    "train_datagen = ImageDataGenerator(rescale = 1/255.)\n",
    "test_datagen = ImageDataGenerator(rescale = 1/255.)\n",
    "\n",
    "print('Training Images')\n",
    "train_data_10_percent = train_datagen.flow_from_directory(train_dir,\n",
    "                                                          target_size = IMAGE_SHAPE,\n",
    "                                                          batch_size = BATCH_SIZE,\n",
    "                                                          class_mode = \"categorical\",\n",
    "                                                          )\n",
    "\n",
    "print('Testing Image')\n",
    "test_data = test_datagen.flow_from_directory(test_dir,\n",
    "                                            target_size = IMAGE_SHAPE,\n",
    "                                            batch_size = BATCH_SIZE,\n",
    "                                            class_mode = \"categorical\")\n"
   ]
  },
  {
   "cell_type": "markdown",
   "id": "c28672bf",
   "metadata": {},
   "source": [
    "## Setting up callbacks (things to run whist our model trains)\n",
    "\n",
    "Callbacks are extra functionality you can add to your models to be performed during or after trianing. Some of the most popular callbacks:\n",
    "\n",
    "* Tracking experiments with the TensorBoard callback\n",
    "* Model checkpoints with the ModelCheckppoint callback\n",
    "* Stopping a model from training (before it trains too long and overfits) with the EarlyStopping callback"
   ]
  },
  {
   "cell_type": "code",
   "execution_count": 82,
   "id": "4a13a4ce",
   "metadata": {},
   "outputs": [],
   "source": [
    "# Create TensorBoard callback (fucntionzied because we need to create a new one for model)\n",
    "import datetime\n",
    "\n",
    "def create_tensorbaord_callback(dir_name, experiment_name):\n",
    "    log_dir = dir_name + '/' + experiment_name + '/' + datetime.datetime.now().strftime(\"%Y%m%d-%H%M%%S\")\n",
    "    tensorboard_callback = tf.keras.callbacks.TensorBoard(log_dir= log_dir)\n",
    "    print(f\"Saving TensorBoard log files to: {log_dir}\")\n",
    "    return tensorboard_callback\n",
    " "
   ]
  },
  {
   "cell_type": "markdown",
   "id": "f4e9e976",
   "metadata": {},
   "source": [
    ">🔑**Note:** You can customize where your TensorBoard logs (model training metrics) get saved to whatever you like.\n",
    "The `log_dir` parameter we've created above is only one options.    \n",
    "\n"
   ]
  },
  {
   "cell_type": "markdown",
   "id": "61e3ead5",
   "metadata": {},
   "source": [
    "## Creating model using TesnorFlow Hub\n",
    "\n",
    "In the past we've used TensorFlow to create our own model layer by layer from scratch. \n",
    "\n",
    "Now we're going to do a similar process, except the majroity of our model's layers are going to come from TensorFlow Hub. \n",
    "\n",
    "We can access pretrained models on. [Tensorboard](https://tfhub.dev/)\n",
    "\n",
    "Browsing the TensorFlow Hub page and sorting for images classification, we found the following feature vector model link: [Model](https://tfhub.dev/tensorflow/efficientnet/b0/feature-vector/1)"
   ]
  },
  {
   "cell_type": "code",
   "execution_count": 83,
   "id": "4271e967",
   "metadata": {},
   "outputs": [],
   "source": [
    "# Let's compare the following two models \n",
    "resnet_url = 'https://tfhub.dev/google/imagenet/resnet_v2_50/feature_vector/4'\n",
    "\n",
    "efficientnet_url = 'https://tfhub.dev/tensorflow/efficientnet/b0/feature-vector/1'"
   ]
  },
  {
   "cell_type": "code",
   "execution_count": 84,
   "id": "e3930541",
   "metadata": {},
   "outputs": [],
   "source": [
    "# Import dependencies\n",
    "import tensorflow as tf\n",
    "import tensorflow_hub as hub\n",
    "from tensorflow.keras import layers"
   ]
  },
  {
   "cell_type": "code",
   "execution_count": 85,
   "id": "8f60816f",
   "metadata": {},
   "outputs": [
    {
     "data": {
      "text/plain": [
       "(224, 224, 3)"
      ]
     },
     "execution_count": 85,
     "metadata": {},
     "output_type": "execute_result"
    }
   ],
   "source": [
    "IMAGE_SHAPE +(3,)"
   ]
  },
  {
   "cell_type": "code",
   "execution_count": 86,
   "id": "d27faef9",
   "metadata": {},
   "outputs": [],
   "source": [
    "# Let's maeke a create _model() function to create a model from URL\n",
    "def create_model(model_url, num_classes=10):\n",
    "    \"\"\"\n",
    "    Takes a TensorFlow Hub URL and creates a Kearas Sequential model with it.\n",
    "    \n",
    "    Args:\n",
    "        model_url (str): A TensorFlow Hub features extraction URL.\n",
    "        num_classes (int): Number of output neurons in the output layer,\n",
    "            should be equal to number of target classes, default 10.\n",
    "    Returns:\n",
    "        An uncompiled Keras Sequential model with mdoel_url as feature extractor \n",
    "        layer and Dense output layer with num_classes output neurons.\n",
    "    \"\"\"\n",
    "    # Download the pretrained model and save it as Keras layer\n",
    "    feature_extractor_layer = hub.KerasLayer(model_url,\n",
    "                                             trainable = False,\n",
    "                                             input_shape = IMAGE_SHAPE+(3,)) #Freeze the already learned patterns\n",
    "    # Creaete the model\n",
    "    model = tf.keras.Sequential([\n",
    "        feature_extractor_layer,\n",
    "        layers.Dense(num_classes, activation = \"softmax\", name = \"output_layer\")\n",
    "        \n",
    "    ])\n",
    "    \n",
    "    return model"
   ]
  },
  {
   "cell_type": "markdown",
   "id": "5dce2e01",
   "metadata": {},
   "source": [
    "### Creating and testing Resnet TensorFlow Hub Feature Extraction model"
   ]
  },
  {
   "cell_type": "code",
   "execution_count": 87,
   "id": "68473e0a",
   "metadata": {},
   "outputs": [],
   "source": [
    "# Create Resnet model \n",
    "resnet_model = create_model(resnet_url,\n",
    "                           num_classes=train_data_10_percent.num_classes)"
   ]
  },
  {
   "cell_type": "code",
   "execution_count": 88,
   "id": "e2ecdd5c",
   "metadata": {},
   "outputs": [],
   "source": [
    "# Compile our resnet model \n",
    "resnet_model.compile(loss= \"categorical_crossentropy\",\n",
    "                     optimizer = tf.keras.optimizers.Adam(),\n",
    "                     metrics = ['accuracy'])"
   ]
  },
  {
   "cell_type": "code",
   "execution_count": 89,
   "id": "3f420811",
   "metadata": {},
   "outputs": [
    {
     "name": "stdout",
     "output_type": "stream",
     "text": [
      "Saving TensorBoard log files to: tensorflow_hub/resnet50v2/20211020-1858%S\n",
      "Epoch 1/5\n",
      "24/24 [==============================] - 18s 615ms/step - loss: 1.9918 - accuracy: 0.3253 - val_loss: 1.2300 - val_accuracy: 0.6132\n",
      "Epoch 2/5\n",
      "24/24 [==============================] - 13s 567ms/step - loss: 0.9073 - accuracy: 0.7133 - val_loss: 0.8853 - val_accuracy: 0.7152\n",
      "Epoch 3/5\n",
      "24/24 [==============================] - 13s 568ms/step - loss: 0.6330 - accuracy: 0.8147 - val_loss: 0.7774 - val_accuracy: 0.7444\n",
      "Epoch 4/5\n",
      "24/24 [==============================] - 13s 570ms/step - loss: 0.4792 - accuracy: 0.8827 - val_loss: 0.7071 - val_accuracy: 0.7720\n",
      "Epoch 5/5\n",
      "24/24 [==============================] - 13s 569ms/step - loss: 0.3816 - accuracy: 0.9107 - val_loss: 0.6920 - val_accuracy: 0.7728\n"
     ]
    }
   ],
   "source": [
    "# Fit the model\n",
    "history = resnet_model.fit(train_data_10_percent,\n",
    "                           epochs =5,\n",
    "                           steps_per_epoch = len(train_data_10_percent),\n",
    "                           validation_data= test_data,\n",
    "                           validation_steps = len(test_data),\n",
    "                           callbacks= [create_tensorbaord_callback(dir_name ='tensorflow_hub',\n",
    "                                                                   experiment_name = \"resnet50v2\"\n",
    "                                                                  )])"
   ]
  },
  {
   "cell_type": "code",
   "execution_count": 90,
   "id": "296285d3",
   "metadata": {
    "scrolled": true
   },
   "outputs": [
    {
     "name": "stdout",
     "output_type": "stream",
     "text": [
      "Model: \"sequential_8\"\n",
      "_________________________________________________________________\n",
      "Layer (type)                 Output Shape              Param #   \n",
      "=================================================================\n",
      "keras_layer_12 (KerasLayer)  (None, 2048)              23564800  \n",
      "_________________________________________________________________\n",
      "output_layer (Dense)         (None, 10)                20490     \n",
      "=================================================================\n",
      "Total params: 23,585,290\n",
      "Trainable params: 20,490\n",
      "Non-trainable params: 23,564,800\n",
      "_________________________________________________________________\n"
     ]
    }
   ],
   "source": [
    "resnet_model.summary()"
   ]
  },
  {
   "cell_type": "code",
   "execution_count": 91,
   "id": "f065af95",
   "metadata": {},
   "outputs": [
    {
     "name": "stdout",
     "output_type": "stream",
     "text": [
      "79/79 [==============================] - 10s 130ms/step - loss: 0.6920 - accuracy: 0.7728\n"
     ]
    },
    {
     "data": {
      "text/plain": [
       "[0.6920227408409119, 0.7728000283241272]"
      ]
     },
     "execution_count": 91,
     "metadata": {},
     "output_type": "execute_result"
    }
   ],
   "source": [
    "resnet_model.evaluate(test_data)"
   ]
  },
  {
   "cell_type": "markdown",
   "id": "5b48be9e",
   "metadata": {},
   "source": [
    "Our transfer learning feature extractor model out perform ALL of the previous model we built by hand...(substantially) and in a quicker training time AND with only 10% of the trainig examples"
   ]
  },
  {
   "cell_type": "code",
   "execution_count": 92,
   "id": "0de58006",
   "metadata": {},
   "outputs": [],
   "source": [
    "# Let's create a function tp create the loss curves ]\n",
    "# Tidbit: you could put a function like this into a script called \"helper.py\" and import it when you need it \n",
    "def plot_loss_curves(history):\n",
    "    \"\"\"\n",
    "    Return seperate loss curves for training and validtion loss\n",
    "    \"\"\"\n",
    "    loss = history.history['loss']\n",
    "    val_loss = history.history['val_loss']\n",
    "    \n",
    "    accuracy = history.history['accuracy']\n",
    "    val_accuracy = history.history['val_accuracy']\n",
    "    \n",
    "    epochs = range(len(history.history['loss']))\n",
    "    \n",
    "    import matplotlib.pyplot as plt\n",
    "    # Let's plot the loss and val_loss\n",
    "    plt.figure()\n",
    "    plt.plot(epochs , loss, label = ['training_loss'])\n",
    "    plt.plot(epochs, val_loss, label = ['validaton_loss'])\n",
    "    plt.title('loss')\n",
    "    plt.xlabel('epochs')\n",
    "    plt.legend()\n",
    "    \n",
    "    # let's plot the accuracy and validation accuracy\n",
    "    plt.figure()\n",
    "    plt.plot(epochs, accuracy, label = ['training Accuracy'])\n",
    "    plt.plot(epochs, val_accuracy, label=['validation Accuracy'])\n",
    "    plt.title('Accuracy')\n",
    "    plt.xlabel('epochs')\n",
    "    plt.legend()"
   ]
  },
  {
   "cell_type": "code",
   "execution_count": 93,
   "id": "4f35b567",
   "metadata": {},
   "outputs": [
    {
     "data": {
      "image/png": "[encoded data removed]",
      "text/plain": [
       "<Figure size 432x288 with 1 Axes>"
      ]
     },
     "metadata": {
      "needs_background": "light"
     },
     "output_type": "display_data"
    },
    {
     "data": {
      "image/png": "[encoded data removed]",
      "text/plain": [
       "<Figure size 432x288 with 1 Axes>"
      ]
     },
     "metadata": {
      "needs_background": "light"
     },
     "output_type": "display_data"
    }
   ],
   "source": [
    "plot_loss_curves(history)"
   ]
  },
  {
   "cell_type": "markdown",
   "id": "85355f0b",
   "metadata": {},
   "source": [
    "### Creating and testing EfficientNetB0 TensorFlow Hub Feature Extraction model"
   ]
  },
  {
   "cell_type": "code",
   "execution_count": 94,
   "id": "f04d7c1d",
   "metadata": {},
   "outputs": [
    {
     "name": "stdout",
     "output_type": "stream",
     "text": [
      "Saving TensorBoard log files to: tensorflow_hub/efficientNetb0/20211020-1900%S\n",
      "Epoch 1/5\n",
      "24/24 [==============================] - 17s 484ms/step - loss: 1.9287 - accuracy: 0.4133 - val_loss: 1.3433 - val_accuracy: 0.7168\n",
      "Epoch 2/5\n",
      "24/24 [==============================] - 9s 381ms/step - loss: 1.1086 - accuracy: 0.7587 - val_loss: 0.8903 - val_accuracy: 0.8120\n",
      "Epoch 3/5\n",
      "24/24 [==============================] - 9s 381ms/step - loss: 0.7806 - accuracy: 0.8373 - val_loss: 0.7092 - val_accuracy: 0.8432\n",
      "Epoch 4/5\n",
      "24/24 [==============================] - 9s 382ms/step - loss: 0.6230 - accuracy: 0.8627 - val_loss: 0.6180 - val_accuracy: 0.8540\n",
      "Epoch 5/5\n",
      "24/24 [==============================] - 9s 383ms/step - loss: 0.5244 - accuracy: 0.8947 - val_loss: 0.5636 - val_accuracy: 0.8596\n"
     ]
    }
   ],
   "source": [
    "# Creaet EfficietNetB0 feature extractor model\n",
    "efficientnet_model = create_model(model_url = efficientnet_url,\n",
    "                                  num_classes = train_data_10_percent.num_classes)\n",
    "\n",
    "# Compile the EfficientNet model\n",
    "efficientnet_model.compile(loss = 'categorical_crossentropy',\n",
    "                                                optimizer = tf.keras.optimizers.Adam(),\n",
    "                                                metrics =['accuracy'])\n",
    "\n",
    "# Fit EfficientNet model\n",
    "efficientnet_history = efficientnet_model.fit( train_data_10_percent,\n",
    "                      epochs = 5,\n",
    "                      steps_per_epoch = len(train_data_10_percent),\n",
    "                      validation_data = test_data,\n",
    "                      validation_steps = len(test_data),\n",
    "                      callbacks = [create_tensorbaord_callback(dir_name =\"tensorflow_hub\",\n",
    "                                                               experiment_name = 'efficientNetb0')])"
   ]
  },
  {
   "cell_type": "code",
   "execution_count": 95,
   "id": "d2dc8406",
   "metadata": {},
   "outputs": [
    {
     "data": {
      "image/png": "[encoded data removed]",
      "text/plain": [
       "<Figure size 432x288 with 1 Axes>"
      ]
     },
     "metadata": {
      "needs_background": "light"
     },
     "output_type": "display_data"
    },
    {
     "data": {
      "image/png": "[encoded data removed]",
      "text/plain": [
       "<Figure size 432x288 with 1 Axes>"
      ]
     },
     "metadata": {
      "needs_background": "light"
     },
     "output_type": "display_data"
    }
   ],
   "source": [
    "plot_loss_curves(efficientnet_history)"
   ]
  },
  {
   "cell_type": "code",
   "execution_count": 96,
   "id": "5167c0f4",
   "metadata": {},
   "outputs": [
    {
     "name": "stdout",
     "output_type": "stream",
     "text": [
      "Model: \"sequential_9\"\n",
      "_________________________________________________________________\n",
      "Layer (type)                 Output Shape              Param #   \n",
      "=================================================================\n",
      "keras_layer_13 (KerasLayer)  (None, 1280)              4049564   \n",
      "_________________________________________________________________\n",
      "output_layer (Dense)         (None, 10)                12810     \n",
      "=================================================================\n",
      "Total params: 4,062,374\n",
      "Trainable params: 12,810\n",
      "Non-trainable params: 4,049,564\n",
      "_________________________________________________________________\n"
     ]
    }
   ],
   "source": [
    "efficientnet_model.summary()"
   ]
  },
  {
   "cell_type": "code",
   "execution_count": 97,
   "id": "6bb19faa",
   "metadata": {},
   "outputs": [
    {
     "name": "stdout",
     "output_type": "stream",
     "text": [
      "Model: \"sequential_8\"\n",
      "_________________________________________________________________\n",
      "Layer (type)                 Output Shape              Param #   \n",
      "=================================================================\n",
      "keras_layer_12 (KerasLayer)  (None, 2048)              23564800  \n",
      "_________________________________________________________________\n",
      "output_layer (Dense)         (None, 10)                20490     \n",
      "=================================================================\n",
      "Total params: 23,585,290\n",
      "Trainable params: 20,490\n",
      "Non-trainable params: 23,564,800\n",
      "_________________________________________________________________\n"
     ]
    }
   ],
   "source": [
    "resnet_model.summary()"
   ]
  },
  {
   "cell_type": "code",
   "execution_count": 98,
   "id": "0893e0ce",
   "metadata": {},
   "outputs": [
    {
     "data": {
      "text/plain": [
       "309"
      ]
     },
     "execution_count": 98,
     "metadata": {},
     "output_type": "execute_result"
    }
   ],
   "source": [
    "# How many layers does our efficientnetb0 feature extractor have?\n",
    "len(efficientnet_model.layers[0].weights)"
   ]
  },
  {
   "cell_type": "markdown",
   "id": "75abcf78",
   "metadata": {},
   "source": [
    "## Different types of transfer learning\n",
    "\n",
    "* **\"As is\" transfer learning**- using an existing model with no changes what so ever (e.g. using ImageNet mdoel on 1000 ImageNet classes, none of your own)\n",
    "* **\"Feature extraction\"** - transfer learning - use the prelearned patterns of an exisitng model (e.g. EfficienNetB0 trained on ImageNet) and adjust the output layer for your own problems (e.g. 1000 classes -> 10 classes of food)\n",
    "* **\"Fine-tuning\"** transfer learing - use the prelearned patterns of an existing model and \"fine-tune many or all of the underlying layers (including new output layers)"
   ]
  },
  {
   "cell_type": "markdown",
   "id": "9907997f",
   "metadata": {},
   "source": [
    "## Comparing our model results using TensorBoard\n",
    "\n",
    ">🔑**Note:** when you upload things to TensorBoard.dev, your experimnets are public. So if you're runnning private experiments(thing's you don't want others to see) do not upload them to TensoBoard.dev"
   ]
  },
  {
   "cell_type": "code",
   "execution_count": null,
   "id": "9ac6521b",
   "metadata": {},
   "outputs": [],
   "source": [
    "# Upload TensorBoard dev records\n",
    "!tensorboard dev upload --logdir ./tensorflow_hub/ \\\n",
    "--name \"EfficientNetB0 vs. ResNet5OV2\" \\\n",
    "--description \"comparing two different TF hub feature extraction model architecture suing 10% of the training data\" \\\n",
    "--one_shot"
   ]
  },
  {
   "cell_type": "code",
   "execution_count": null,
   "id": "e80180b2",
   "metadata": {},
   "outputs": [],
   "source": []
  }
 ],
 "metadata": {
  "kernelspec": {
   "display_name": "Python 3",
   "language": "python",
   "name": "python3"
  },
  "language_info": {
   "codemirror_mode": {
    "name": "ipython",
    "version": 3
   },
   "file_extension": ".py",
   "mimetype": "text/x-python",
   "name": "python",
   "nbconvert_exporter": "python",
   "pygments_lexer": "ipython3",
   "version": "3.6.13"
  }
 },
 "nbformat": 4,
 "nbformat_minor": 5
}
